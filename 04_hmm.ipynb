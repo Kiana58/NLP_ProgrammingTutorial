{
 "cells": [
  {
   "cell_type": "code",
   "execution_count": 1,
   "metadata": {
    "collapsed": true
   },
   "outputs": [],
   "source": [
    "import math\n",
    "from collections import defaultdict\n",
    "emit = defaultdict(int)\n",
    "transit = defaultdict(int)\n",
    "context = defaultdict(int)"
   ]
  },
  {
   "cell_type": "code",
   "execution_count": 2,
   "metadata": {
    "collapsed": true
   },
   "outputs": [],
   "source": [
    "# # テスト\n",
    "# input_file_train = open(\"../test/05-train-input.txt\",\"r\")\n",
    "# input_file = open(\"../test/05-test-input.txt\",\"r\")\n",
    "\n",
    "# 本番\n",
    "input_file_train = open(\"../data/wiki-en-train.norm_pos\",\"r\")\n",
    "input_file = open(\"../data/wiki-en-test.norm\",\"r\")\n",
    "\n",
    "inp_train = input_file_train.readlines()\n",
    "inp = input_file.readlines()"
   ]
  },
  {
   "cell_type": "code",
   "execution_count": 3,
   "metadata": {
    "collapsed": true
   },
   "outputs": [],
   "source": [
    "for line in inp_train:\n",
    "    previous = \"<s>\"\n",
    "    context[previous] += 1\n",
    "    wordtags = line.split()\n",
    "    for wordtag in wordtags:\n",
    "        word,tag = wordtag.split(\"_\")\n",
    "        transit[previous+\" \"+tag] +=1\n",
    "        context[tag] += 1\n",
    "        emit[tag+\" \"+word] +=1\n",
    "        previous = tag\n",
    "    transit[previous+\" </s>\"] += 1\n",
    "\n",
    "transition = defaultdict(lambda:0)\n",
    "emission = defaultdict(lambda:0)\n",
    "possible_tags = context\n",
    "for key,value in transit.items():\n",
    "    previous,word = key.split()\n",
    "    transition[key] = float(value)/context[previous]\n",
    "for key,value in emit.items():\n",
    "    tag,word = key.split()\n",
    "    emission[key] = float(value)/context[tag]"
   ]
  },
  {
   "cell_type": "code",
   "execution_count": 4,
   "metadata": {},
   "outputs": [
    {
     "ename": "ValueError",
     "evalue": "math domain error",
     "output_type": "error",
     "traceback": [
      "\u001b[0;31m---------------------------------------------------------------------------\u001b[0m",
      "\u001b[0;31mValueError\u001b[0m                                Traceback (most recent call last)",
      "\u001b[0;32m<ipython-input-4-fb9854e0ec97>\u001b[0m in \u001b[0;36m<module>\u001b[0;34m()\u001b[0m\n\u001b[1;32m     15\u001b[0m                     \u001b[0mscore_T\u001b[0m \u001b[0;34m=\u001b[0m \u001b[0mtransition\u001b[0m\u001b[0;34m[\u001b[0m\u001b[0mprev\u001b[0m\u001b[0;34m+\u001b[0m\u001b[0;34m\" \"\u001b[0m\u001b[0;34m+\u001b[0m\u001b[0mafter\u001b[0m\u001b[0;34m]\u001b[0m\u001b[0;34m\u001b[0m\u001b[0m\n\u001b[1;32m     16\u001b[0m                     \u001b[0mscore_E\u001b[0m \u001b[0;34m=\u001b[0m \u001b[0mlambda_E\u001b[0m\u001b[0;34m*\u001b[0m\u001b[0memission\u001b[0m\u001b[0;34m[\u001b[0m\u001b[0mafter\u001b[0m\u001b[0;34m+\u001b[0m\u001b[0;34m\" \"\u001b[0m\u001b[0;34m+\u001b[0m\u001b[0mwords\u001b[0m\u001b[0;34m[\u001b[0m\u001b[0mi\u001b[0m\u001b[0;34m]\u001b[0m\u001b[0;34m]\u001b[0m \u001b[0;34m+\u001b[0m \u001b[0;34m(\u001b[0m\u001b[0;36m1\u001b[0m\u001b[0;34m-\u001b[0m\u001b[0mlambda_E\u001b[0m\u001b[0;34m)\u001b[0m\u001b[0;34m/\u001b[0m\u001b[0mN\u001b[0m\u001b[0;34m\u001b[0m\u001b[0m\n\u001b[0;32m---> 17\u001b[0;31m                     \u001b[0mscore\u001b[0m \u001b[0;34m=\u001b[0m \u001b[0mbest_score\u001b[0m\u001b[0;34m[\u001b[0m\u001b[0mstr\u001b[0m\u001b[0;34m(\u001b[0m\u001b[0mi\u001b[0m\u001b[0;34m)\u001b[0m\u001b[0;34m+\u001b[0m\u001b[0;34m\" \"\u001b[0m\u001b[0;34m+\u001b[0m\u001b[0mprev\u001b[0m\u001b[0;34m]\u001b[0m\u001b[0;34m-\u001b[0m\u001b[0mmath\u001b[0m\u001b[0;34m.\u001b[0m\u001b[0mlog\u001b[0m\u001b[0;34m(\u001b[0m\u001b[0mscore_T\u001b[0m\u001b[0;34m,\u001b[0m\u001b[0;36m2\u001b[0m\u001b[0;34m)\u001b[0m\u001b[0;34m-\u001b[0m\u001b[0mmath\u001b[0m\u001b[0;34m.\u001b[0m\u001b[0mlog\u001b[0m\u001b[0;34m(\u001b[0m\u001b[0mscore_E\u001b[0m\u001b[0;34m,\u001b[0m\u001b[0;36m2\u001b[0m\u001b[0;34m)\u001b[0m\u001b[0;34m\u001b[0m\u001b[0m\n\u001b[0m\u001b[1;32m     18\u001b[0m                     \u001b[0;32mif\u001b[0m \u001b[0;34m(\u001b[0m\u001b[0mstr\u001b[0m\u001b[0;34m(\u001b[0m\u001b[0mi\u001b[0m\u001b[0;34m+\u001b[0m\u001b[0;36m1\u001b[0m\u001b[0;34m)\u001b[0m\u001b[0;34m+\u001b[0m\u001b[0;34m\" \"\u001b[0m\u001b[0;34m+\u001b[0m\u001b[0mafter\u001b[0m\u001b[0;34m)\u001b[0m \u001b[0;32mnot\u001b[0m \u001b[0;32min\u001b[0m \u001b[0mbest_score\u001b[0m \u001b[0;32mor\u001b[0m \u001b[0mbest_score\u001b[0m\u001b[0;34m[\u001b[0m\u001b[0mstr\u001b[0m\u001b[0;34m(\u001b[0m\u001b[0mi\u001b[0m\u001b[0;34m+\u001b[0m\u001b[0;36m1\u001b[0m\u001b[0;34m)\u001b[0m\u001b[0;34m+\u001b[0m\u001b[0;34m\" \"\u001b[0m\u001b[0;34m+\u001b[0m\u001b[0mafter\u001b[0m\u001b[0;34m]\u001b[0m \u001b[0;34m>\u001b[0m \u001b[0mscore\u001b[0m\u001b[0;34m:\u001b[0m\u001b[0;34m\u001b[0m\u001b[0m\n\u001b[1;32m     19\u001b[0m                         \u001b[0mbest_score\u001b[0m\u001b[0;34m[\u001b[0m\u001b[0mstr\u001b[0m\u001b[0;34m(\u001b[0m\u001b[0mi\u001b[0m\u001b[0;34m+\u001b[0m\u001b[0;36m1\u001b[0m\u001b[0;34m)\u001b[0m\u001b[0;34m+\u001b[0m\u001b[0;34m\" \"\u001b[0m\u001b[0;34m+\u001b[0m\u001b[0mafter\u001b[0m\u001b[0;34m]\u001b[0m \u001b[0;34m=\u001b[0m \u001b[0mscore\u001b[0m\u001b[0;34m\u001b[0m\u001b[0m\n",
      "\u001b[0;31mValueError\u001b[0m: math domain error"
     ]
    }
   ],
   "source": [
    "ans = \"\"\n",
    "lambda_E = 0.95\n",
    "N = 1000000\n",
    "for line in inp:\n",
    "    words = line.split()\n",
    "    l = len(words)\n",
    "    best_score = defaultdict(lambda: N)\n",
    "    best_edge = defaultdict(lambda: None)\n",
    "    best_score[\"0 <s>\"] = 0\n",
    "    best_edge[\"0 <s>\"] = None\n",
    "    for i in range(0,l):\n",
    "        for prev in possible_tags.keys():\n",
    "            for after in possible_tags.keys():\n",
    "                if (str(i)+\" \"+prev)in best_score and (prev+\" \"+after)in transition:\n",
    "                    score_T = transition[prev+\" \"+after]\n",
    "                    score_E = lambda_E*emission[after+\" \"+words[i]] + (1-lambda_E)/N\n",
    "                    score = best_score[str(i)+\" \"+prev]-math.log(score_T,2)-math.log(score_E,2)\n",
    "                    if (str(i+1)+\" \"+after) not in best_score or best_score[str(i+1)+\" \"+after] > score:\n",
    "                        best_score[str(i+1)+\" \"+after] = score\n",
    "                        best_edge[str(i+1)+\" \"+after] = str(i)+\" \"+prev\n",
    "\n",
    "    for tag in possible_tags.keys():\n",
    "        if (str(l)+\" \"+tag)in best_score and (tag+\" </s>\")in transition:\n",
    "            score_T = transition[tag+\" </s>\"]\n",
    "            score = best_score[str(l)+\" \"+tag]-math.log(score_T,2)\n",
    "            if (str(l+1)+\" </s>\") not in best_score or best_score[str(l+1)+\" </s>\"] > score:\n",
    "                best_score[str(l+1)+\" </s>\"] = score\n",
    "                best_edge[str(l+1)+\" </s>\"] = str(l)+\" \"+tag\n",
    "    \n",
    "    tags = []\n",
    "    next_edge = best_edge[str(l+1)+\" </s>\"]\n",
    "    while next_edge != \"0 <s>\":\n",
    "        position,tag = next_edge.split()\n",
    "        tags.append(tag)\n",
    "        next_edge = best_edge[next_edge]\n",
    "    tags.reverse()\n",
    "    ans += \" \".join(tags)\n",
    "    ans += \"\\n\"\n",
    "with open(\"../data/my_answer.pos\",\"w\") as wf:\n",
    "    wf.write(ans)"
   ]
  },
  {
   "cell_type": "code",
   "execution_count": null,
   "metadata": {
    "collapsed": true
   },
   "outputs": [],
   "source": []
  }
 ],
 "metadata": {
  "anaconda-cloud": {},
  "kernelspec": {
   "display_name": "Python 2",
   "language": "python",
   "name": "python2"
  },
  "language_info": {
   "codemirror_mode": {
    "name": "ipython",
    "version": 2
   },
   "file_extension": ".py",
   "mimetype": "text/x-python",
   "name": "python",
   "nbconvert_exporter": "python",
   "pygments_lexer": "ipython2",
   "version": "2.7.11"
  }
 },
 "nbformat": 4,
 "nbformat_minor": 2
}
