{
 "cells": [
  {
   "cell_type": "code",
   "execution_count": 5,
   "metadata": {
    "collapsed": true
   },
   "outputs": [],
   "source": [
    "import math\n",
    "from collections import defaultdict\n",
    "\n",
    "def CREATE_FEATURES(x):\n",
    "    phi = defaultdict(int)\n",
    "    words = x.split()\n",
    "    # 1-gram\n",
    "    for word in words:\n",
    "        phi[\"UNI:\"+word] += 1\n",
    "    # 2-gram\n",
    "    for i in xrange(1,len(words)):\n",
    "        phi[\"BI:\"+words[i-1]+\" \"+words[i]] += 1\n",
    "    return phi\n",
    "\n",
    "def PREDICT_ONE(w,phi):\n",
    "    score = 0\n",
    "    for name,value in phi.items():\n",
    "        if name in w:\n",
    "            score += value*w[name]\n",
    "    if score>=0:\n",
    "        return 1\n",
    "    else:\n",
    "        return -1\n",
    "    \n",
    "def PREDICT_ALL(model,inp):\n",
    "    w = model\n",
    "    ans = []\n",
    "    for x in inp:\n",
    "        phi = CREATE_FEATURES(x)\n",
    "        y_ = PREDICT_ONE(w,phi)\n",
    "        ans.append(y_)\n",
    "    return ans\n",
    "\n",
    "\n",
    "def UPDATE_WEIGHTS(w,phi,y):\n",
    "    for name,value in phi.items():\n",
    "        w[name] += value*y"
   ]
  },
  {
   "cell_type": "code",
   "execution_count": 6,
   "metadata": {},
   "outputs": [],
   "source": [
    "# テスト　\n",
    "# rf = open(\"../test/03-train-input.txt\",\"r\")\n",
    "# datas = []\n",
    "# for line in rf.readlines():\n",
    "#     datas.append(line.strip().split(\"\\t\"))\n",
    "\n",
    "\n",
    "# 本番\n",
    "model_file = open(\"../data/titles-en-train.labeled\",\"r\")\n",
    "input_file = open(\"../data/titles-en-test.word\",\"r\")\n",
    "model = model_file.readlines()\n",
    "inp = input_file.readlines()\n",
    "\n",
    "datas = []\n",
    "for line in model:\n",
    "    datas.append(line.strip().split(\"\\t\"))\n",
    "\n",
    "w = defaultdict(int)\n",
    "for data in datas:\n",
    "    y = float(data[0]); x = data[1]\n",
    "    phi = CREATE_FEATURES(x)\n",
    "    y_ = PREDICT_ONE(w,phi)\n",
    "    if y_ != y:\n",
    "        UPDATE_WEIGHTS(w,phi,y)\n",
    "\n",
    "with open(\"../data/my_answer.txt\",\"w\") as wf:\n",
    "    for i in PREDICT_ALL(w,inp):\n",
    "        i = str(i)+\"\\n\"\n",
    "        wf.write(i)"
   ]
  },
  {
   "cell_type": "markdown",
   "metadata": {},
   "source": [
    "### UNI-GRAM : Accuracy = 90.967056%\n",
    "### BI-GRAM :Accuracy = 91.321289%"
   ]
  }
 ],
 "metadata": {
  "kernelspec": {
   "display_name": "Python 2",
   "language": "python",
   "name": "python2"
  },
  "language_info": {
   "codemirror_mode": {
    "name": "ipython",
    "version": 2
   },
   "file_extension": ".py",
   "mimetype": "text/x-python",
   "name": "python",
   "nbconvert_exporter": "python",
   "pygments_lexer": "ipython2",
   "version": "2.7.11"
  }
 },
 "nbformat": 4,
 "nbformat_minor": 2
}
