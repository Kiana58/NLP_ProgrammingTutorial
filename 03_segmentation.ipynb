{
 "cells": [
  {
   "cell_type": "code",
   "execution_count": 518,
   "metadata": {
    "collapsed": true
   },
   "outputs": [],
   "source": [
    "import math\n",
    "from collections import defaultdict\n",
    "probabilities = defaultdict(float)"
   ]
  },
  {
   "cell_type": "code",
   "execution_count": 519,
   "metadata": {
    "collapsed": true
   },
   "outputs": [],
   "source": [
    "# テスト\n",
    "# model_file = open(\"../test/04-model.txt\",\"r\")\n",
    "# input_file = open(\"../test/04-input.txt\",\"r\")\n",
    "\n",
    "# model = model_file.readlines()\n",
    "# inp = input_file.readlines()\n",
    "# for line in model:\n",
    "#     key,value = line.split()\n",
    "#     probabilities[key] = float(value)\n",
    "\n",
    "# 本番\n",
    "training_file = open(\"../data/wiki-ja-train.word\",\"r\")\n",
    "input_file = open(\"../data/wiki-ja-test.txt\",\"r\")\n",
    "training = training_file.readlines()\n",
    "inp = input_file.readlines()\n",
    "\n",
    "counts = defaultdict(int)\n",
    "total_count = 0\n",
    "for line in training:\n",
    "    words = line.split()\n",
    "    words.append(\"</s>\")\n",
    "    for word in words:\n",
    "        counts[word] += 1\n",
    "        total_count += 1\n",
    "for word,count in counts.items():\n",
    "    probability = float(count)/total_count\n",
    "    probabilities[unicode(word,\"utf-8\")] = probability\n",
    "\n",
    "# チャレンジ\n",
    "# model_file = open(\"../data/big-ws-model.txt\",\"r\")\n",
    "# input_file = open(\"../data/wiki-ja-test.txt\",\"r\")\n",
    "# model = model_file.readlines()\n",
    "# inp = input_file.readlines()\n",
    "# for line in model:\n",
    "#     key,value = line.split()\n",
    "#     probabilities[unicode(key,\"utf-8\")] = float(value)"
   ]
  },
  {
   "cell_type": "code",
   "execution_count": 520,
   "metadata": {
    "collapsed": true
   },
   "outputs": [],
   "source": [
    "best_edge = defaultdict(tuple)\n",
    "best_score = defaultdict(float)\n",
    "ans = \"\"\n",
    "\n",
    "lambda_1 = 0.95\n",
    "lambda_unknown = 1-lambda_1\n",
    "V = 1000000\n",
    "for line in inp:\n",
    "    # 前向きステップ\n",
    "    line = unicode(line.strip(),\"utf-8\")\n",
    "    best_edge = [None for i in range(len(line)+1)]\n",
    "    best_score = [0 for i in range(len(line)+1)]\n",
    "    for word_end in xrange(1,len(line)+1):\n",
    "        best_score[word_end] = math.pow(10,10)\n",
    "        for word_begin in xrange(0,word_end):\n",
    "            word = line[word_begin:word_end]\n",
    "            if word in probabilities or len(word)==1:\n",
    "                prob = lambda_1*float(probabilities[word])+float(1-lambda_1)/V \n",
    "                my_score = best_score[word_begin]-math.log(prob,2)\n",
    "                if my_score < best_score[word_end]:\n",
    "                    best_score[word_end] = my_score\n",
    "                    best_edge[word_end] = (word_begin,word_end)\n",
    "    # 後ろ向きステップ\n",
    "    words = []\n",
    "    next_edge = best_edge[len(best_edge)-1]\n",
    "    while next_edge != None:\n",
    "        word = line[next_edge[0]:next_edge[1]]\n",
    "        words.append(word.encode(\"utf-8\"))\n",
    "        next_edge = best_edge[next_edge[0]]\n",
    "    words.reverse()\n",
    "    ans += \" \".join(words)\n",
    "    ans += \"\\n\"\n",
    "with open(\"../data/my_answer.word\",\"w\") as wf:\n",
    "    wf.write(ans)"
   ]
  },
  {
   "cell_type": "code",
   "execution_count": null,
   "metadata": {
    "collapsed": true
   },
   "outputs": [],
   "source": []
  }
 ],
 "metadata": {
  "kernelspec": {
   "display_name": "Python 2",
   "language": "python",
   "name": "python2"
  },
  "language_info": {
   "codemirror_mode": {
    "name": "ipython",
    "version": 2
   },
   "file_extension": ".py",
   "mimetype": "text/x-python",
   "name": "python",
   "nbconvert_exporter": "python",
   "pygments_lexer": "ipython2",
   "version": "2.7.11"
  }
 },
 "nbformat": 4,
 "nbformat_minor": 2
}
