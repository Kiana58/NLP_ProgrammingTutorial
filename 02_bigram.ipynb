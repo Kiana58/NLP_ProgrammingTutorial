{
 "cells": [
  {
   "cell_type": "code",
   "execution_count": 178,
   "metadata": {},
   "outputs": [],
   "source": [
    "import math\n",
    "from collections import defaultdict\n",
    "counts = defaultdict(int)\n",
    "context_counts = defaultdict(int)"
   ]
  },
  {
   "cell_type": "code",
   "execution_count": 179,
   "metadata": {
    "collapsed": true
   },
   "outputs": [],
   "source": [
    "# テスト\n",
    "# training_file = open(\"../test/02-train-input.txt\",\"r\")\n",
    "\n",
    "# 本番\n",
    "training_file = open(\"../data/wiki-en-train.word\",\"r\")\n",
    "test_file = open(\"../data/wiki-en-test.word\",\"r\")\n",
    "training = training_file.readlines()\n",
    "test = test_file.readlines()"
   ]
  },
  {
   "cell_type": "code",
   "execution_count": 183,
   "metadata": {},
   "outputs": [],
   "source": [
    "probabilities = defaultdict(float)\n",
    "for line in training:\n",
    "    words = line.split()\n",
    "    words.append(\"</s>\")\n",
    "    words.insert(0,\"<s>\")\n",
    "    for i in xrange(1,len(words)):\n",
    "        counts[words[i-1]+\" \"+words[i]] += 1\n",
    "        context_counts[words[i-1]] += 1\n",
    "        counts[words[i]] += 1\n",
    "        context_counts[\"\"] += 1\n",
    "for ngram,count in counts.items():\n",
    "    words = ngram.split()[:-1]\n",
    "    context = \"\".join(words)\n",
    "    probability = float(counts[ngram])/context_counts[context]\n",
    "    probabilities[ngram] = probability"
   ]
  },
  {
   "cell_type": "code",
   "execution_count": 181,
   "metadata": {},
   "outputs": [],
   "source": [
    "# Grid Search\n",
    "entropies = defaultdict(float)\n",
    "for lambda_1 in [0.05*i for i in xrange(1,20)]:\n",
    "    for lambda_2 in [0.05*i for i in xrange(1,20)]:\n",
    "        V = 1000000; W = 0; H = 0\n",
    "        for line in test:\n",
    "            words = line.split()\n",
    "            words.append(\"</s>\")\n",
    "            words.insert(0,\"<s>\")\n",
    "            for i in xrange(1,len(words)):\n",
    "                P_1 = lambda_1*probabilities[words[i]]+(1-lambda_1)/V\n",
    "                P_2 = lambda_2*probabilities[words[i-1]+\" \"+words[i]]+(1-lambda_2)*P_1\n",
    "                H += -math.log(P_2,2)\n",
    "                W += 1\n",
    "        entropies[str(lambda_1)+\",\"+str(lambda_2)] = H/W"
   ]
  },
  {
   "cell_type": "code",
   "execution_count": 182,
   "metadata": {},
   "outputs": [
    {
     "name": "stdout",
     "output_type": "stream",
     "text": [
      "9.66386972605 0.85,0.35\n"
     ]
    }
   ],
   "source": [
    "for parameter,entropy in sorted(entropies.items(), key=lambda x: x[1]):\n",
    "    print entropy,parameter\n",
    "    break"
   ]
  },
  {
   "cell_type": "code",
   "execution_count": 184,
   "metadata": {},
   "outputs": [],
   "source": [
    "# Witten-Bell平滑化\n",
    "unique_words = defaultdict(set)\n",
    "for line in training:\n",
    "    words = line.split()\n",
    "    words.append(\"</s>\")\n",
    "    words.insert(0,\"<s>\")\n",
    "    for i in xrange(1,len(words)):\n",
    "        unique_words[words[i-1]].add(words[i])\n",
    "\n",
    "entropies = defaultdict(float)\n",
    "for lambda_1 in [0.05*i for i in xrange(1,20)]:\n",
    "    for line in test:\n",
    "        words = line.split()\n",
    "        words.append(\"</s>\")\n",
    "        words.insert(0,\"<s>\")\n",
    "        for word in words:\n",
    "            for i in xrange(1,len(words)):\n",
    "                u = len(unique_words[words[i-1]])\n",
    "                c = counts[words[i-1]]\n",
    "                lambda_2 = 1-float(u)/(u+c) if u+c!=0 else 0\n",
    "                P_1 = lambda_1*probabilities[words[i]]+(1-lambda_1)/V\n",
    "                P_2 = lambda_2*probabilities[words[i-1]+\" \"+words[i]]+(1-lambda_2)*P_1\n",
    "                H += -math.log(P_2,2)\n",
    "                W += 1\n",
    "    entropies[str(lambda_1)] = H/W"
   ]
  },
  {
   "cell_type": "code",
   "execution_count": 185,
   "metadata": {},
   "outputs": [
    {
     "name": "stdout",
     "output_type": "stream",
     "text": [
      "10.3142359625 0.95\n"
     ]
    }
   ],
   "source": [
    "for parameter,entropy in sorted(entropies.items(), key=lambda x: x[1]):\n",
    "    print entropy,parameter\n",
    "    break"
   ]
  },
  {
   "cell_type": "code",
   "execution_count": null,
   "metadata": {
    "collapsed": true
   },
   "outputs": [],
   "source": []
  }
 ],
 "metadata": {
  "kernelspec": {
   "display_name": "Python 2",
   "language": "python",
   "name": "python2"
  },
  "language_info": {
   "codemirror_mode": {
    "name": "ipython",
    "version": 2
   },
   "file_extension": ".py",
   "mimetype": "text/x-python",
   "name": "python",
   "nbconvert_exporter": "python",
   "pygments_lexer": "ipython2",
   "version": "2.7.11"
  }
 },
 "nbformat": 4,
 "nbformat_minor": 2
}
